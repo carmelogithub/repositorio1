{
 "cells": [
  {
   "cell_type": "markdown",
   "id": "17b2f2fb",
   "metadata": {},
   "source": [
    "# WebScraping"
   ]
  },
  {
   "cell_type": "markdown",
   "id": "741e2b29",
   "metadata": {},
   "source": [
    "Analizar una web\n",
    "https://realpython.com/beautiful-soup-web-scraper-python/\n",
    "Librería request"
   ]
  },
  {
   "cell_type": "code",
   "execution_count": 18,
   "id": "b61fc9b0",
   "metadata": {},
   "outputs": [
    {
     "ename": "SyntaxError",
     "evalue": "invalid syntax (1485338353.py, line 9)",
     "output_type": "error",
     "traceback": [
      "\u001b[1;36m  File \u001b[1;32m\"C:\\Users\\Tecnicos\\AppData\\Local\\Temp\\ipykernel_10168\\1485338353.py\"\u001b[1;36m, line \u001b[1;32m9\u001b[0m\n\u001b[1;33m    resultado = soup.find_all(\"div\", class=\"st-content\")\u001b[0m\n\u001b[1;37m                                     ^\u001b[0m\n\u001b[1;31mSyntaxError\u001b[0m\u001b[1;31m:\u001b[0m invalid syntax\n"
     ]
    }
   ],
   "source": [
    "import requests\n",
    "from bs4 import BeautifulSoup\n",
    "\n",
    "web='https://valeriemoreau.com/'\n",
    "pagina=requests.get(web)\n",
    "#print(pagina.content)\n",
    "soup=BeautifulSoup(pagina.content,'html.parser')\n",
    "#resultado=soup.find(id='st-container')\n",
    "resultado = soup.find_all(\"div\", class_=\"st-content\")\n",
    "print(resultado)"
   ]
  },
  {
   "cell_type": "code",
   "execution_count": 16,
   "id": "12bdecd1",
   "metadata": {},
   "outputs": [
    {
     "name": "stdout",
     "output_type": "stream",
     "text": [
      "None\n"
     ]
    }
   ],
   "source": [
    "import requests\n",
    "from bs4 import BeautifulSoup\n",
    "\n",
    "web='https://www.infojobs.net/'\n",
    "pagina=requests.get(web)\n",
    "#print(pagina.content)\n",
    "soup=BeautifulSoup(pagina.content,'html.parser')\n",
    "resultado=soup.find(id='searchBox')\n",
    "print(resultado)\n",
    "\n"
   ]
  },
  {
   "cell_type": "markdown",
   "id": "c3a325fb",
   "metadata": {},
   "source": [
    "Entra en esta web\n",
    "https://www.xataka.com/categoria/seguridad\n",
    "web='https://valeriemoreau.com/'\n",
    "Muestra por pantalla el contenido de id llamado fb-root\n",
    "Muestra por pantalla el contenido de class llamado container\n",
    "Muestra por pantalla el listado de imágenes (esto NO lo hemos explicado todavía)\n",
    "https://www.makeuseof.com/python-scrape-web-images-how-to/\n",
    "\n"
   ]
  },
  {
   "cell_type": "code",
   "execution_count": 19,
   "id": "9159f700",
   "metadata": {},
   "outputs": [
    {
     "name": "stdout",
     "output_type": "stream",
     "text": [
      "<img alt=\"Español\" height=\"11\" src=\"data:image/png;base64,iVBORw0KGgoAAAANSUhEUgAAABAAAAALCAIAAAD5gJpuAAAABGdBTUEAAK/INwWK6QAAABl0RVh0U29mdHdhcmUAQWRvYmUgSW1hZ2VSZWFkeXHJZTwAAAFnSURBVHjaYvzPgAD/UNlYEUAAmuTYAAAQhAEYqF/zFbe50RZ1cMmS9TLi0pJLRjZohAMTGFUN9HdnHgEE1sDw//+Tp0ClINW/f0NIKPoFJH/9//ULyGaUlQXaABBALAx/Gf4zAt31F4i+ffj3/cN/XrFfzOx//v///f//LzACM/79ZmD8/e8TA0AAMYHdDVT958vXP38nMDB0s3x94/Tj5y+YahhiAKLfQKUAAcQEdtJfoDHMF2L+vPzDmFXLelf551tGFOOhev4A/QgQQExgHwAd8IdFT/Wz6j+GhlpmXSOW/2z///8Eq/sJ18Dw/zdQA0AAMQExxJjjdy9x2/76EfLz4MXdP/i+wsyGkkA3Aw3984cBIIAYfzIwMKel/bt3jwEaLNAwgZIQxp/fDH/+MqqovL14ESCAWICeZvr9h0FSEhSgwBgAygFDEMT+wwAhgQgc4kAEVAwQQIxfUSMSTxxDAECAAQAJWke8v4u1tAAAAABJRU5ErkJggg==\" style=\"width: 16px; height: 11px;\" width=\"16\"/>\n"
     ]
    }
   ],
   "source": [
    "import requests\n",
    "from bs4 import BeautifulSoup\n",
    "\n",
    "web='https://valeriemoreau.com/'\n",
    "pagina=requests.get(web)\n",
    "#print(pagina.content)\n",
    "soup=BeautifulSoup(pagina.content,'html.parser')\n",
    "resultado=soup.find('img')\n",
    "print(resultado)"
   ]
  },
  {
   "cell_type": "code",
   "execution_count": null,
   "id": "623af2a9",
   "metadata": {},
   "outputs": [],
   "source": []
  }
 ],
 "metadata": {
  "kernelspec": {
   "display_name": "Python 3 (ipykernel)",
   "language": "python",
   "name": "python3"
  },
  "language_info": {
   "codemirror_mode": {
    "name": "ipython",
    "version": 3
   },
   "file_extension": ".py",
   "mimetype": "text/x-python",
   "name": "python",
   "nbconvert_exporter": "python",
   "pygments_lexer": "ipython3",
   "version": "3.9.13"
  }
 },
 "nbformat": 4,
 "nbformat_minor": 5
}
